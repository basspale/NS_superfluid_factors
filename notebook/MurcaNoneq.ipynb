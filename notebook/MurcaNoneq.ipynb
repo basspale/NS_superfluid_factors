{
 "cells": [
  {
   "cell_type": "code",
   "execution_count": 1,
   "metadata": {},
   "outputs": [],
   "source": [
    "#using Pkg\n",
    "using Plots\n",
    "using DelimitedFiles\n",
    "using Dierckx\n",
    "include(\"../src/MurcaNoneqNumerical.jl\")\n",
    "using .MurcaNoneqNumerical\n",
    "include(\"../src/MurcaReductionFit.jl\")\n",
    "using .MurcaReductionFit\n",
    "include(\"../src/MurcaNoneqZeroTemp.jl\")\n",
    "using .MurcaNoneqZeroTemp"
   ]
  },
  {
   "cell_type": "code",
   "execution_count": 2,
   "metadata": {},
   "outputs": [
    {
     "data": {
      "text/plain": [
       "Plots.PyPlotBackend()"
      ]
     },
     "execution_count": 2,
     "metadata": {},
     "output_type": "execute_result"
    }
   ],
   "source": [
    "pyplot()"
   ]
  },
  {
   "cell_type": "markdown",
   "metadata": {},
   "source": [
    "# Check quality of numerical integration"
   ]
  },
  {
   "cell_type": "code",
   "execution_count": 3,
   "metadata": {},
   "outputs": [
    {
     "data": {
      "text/plain": [
       "HM (generic function with 1 method)"
      ]
     },
     "execution_count": 3,
     "metadata": {},
     "output_type": "execute_result"
    }
   ],
   "source": [
    "function HM(xi::Float64)::Float64\n",
    "    return (14680.0*xi)/(11513.0*pi^2) + (7560.0*xi^3)/(11513.0*pi^4) + (840*xi^5)/(11513.0*pi^6) + (24.0*xi^7)/(11513.0*pi^8)\n",
    "end"
   ]
  },
  {
   "cell_type": "code",
   "execution_count": 4,
   "metadata": {},
   "outputs": [
    {
     "data": {
      "text/plain": [
       "13-element Array{Array{Float64,1},1}:\n",
       " [0.00249649, 0.0931498]\n",
       " [0.0156495, 0.519623]  \n",
       " [0.0402131, 0.969124]  \n",
       " [0.0738525, 1.06173]   \n",
       " [0.13601, 1.19889]     \n",
       " [0.269022, 1.66464]    \n",
       " [0.645744, 3.47894]    \n",
       " [2.33545, 13.116]      \n",
       " [22.4045, 153.45]      \n",
       " [414.011, 4637.25]     \n",
       " [5014.24, 75354.0]     \n",
       " [1.0955e5, 1.01765e6]  \n",
       " [5.8453e6, 8.058e7]    "
      ]
     },
     "execution_count": 4,
     "metadata": {},
     "output_type": "execute_result"
    }
   ],
   "source": [
    "xis = exp10.(-1:0.25:2)\n",
    "Ips_nonSF = Ip_SFnp.(0., 0., xis, 10)"
   ]
  },
  {
   "cell_type": "code",
   "execution_count": 5,
   "metadata": {},
   "outputs": [
    {
     "data": {
      "text/plain": [
       "13-element Array{Float64,1}:\n",
       "   0.1                \n",
       "   0.17782794100389226\n",
       "   0.31622776601683794\n",
       "   0.5623413251903491 \n",
       "   1.0                \n",
       "   1.7782794100389228 \n",
       "   3.162277660168379  \n",
       "   5.623413251903491  \n",
       "  10.0                \n",
       "  17.78279410038923   \n",
       "  31.622776601683793  \n",
       "  56.23413251903491   \n",
       " 100.0                "
      ]
     },
     "execution_count": 5,
     "metadata": {},
     "output_type": "execute_result"
    }
   ],
   "source": [
    "xis = exp10.(-1:0.25:2)\n",
    "#Ips_nonSF = Ip_SFnp.(0., 0., xis, 5, 0.01)"
   ]
  },
  {
   "cell_type": "code",
   "execution_count": 6,
   "metadata": {},
   "outputs": [
    {
     "data": {
      "text/plain": [
       "13-element Array{Float64,1}:\n",
       "      2.195199978223546e-14 \n",
       "      1.2349303513280365e-12\n",
       "      6.945471370830508e-11 \n",
       "      3.905911551401771e-9  \n",
       "      2.1964897517129997e-7 \n",
       "      1.235182645997719e-5  \n",
       "      0.0006945955855019793 \n",
       "      0.03906002547299676   \n",
       "      2.196506708543981     \n",
       "    123.51852497726914      \n",
       "   6945.947519155541        \n",
       " 390598.8547686101          \n",
       "      2.19649682638502e7    "
      ]
     },
     "execution_count": 6,
     "metadata": {},
     "output_type": "execute_result"
    }
   ],
   "source": [
    "Ips_nonSF_zeroT = Ip_rate_SFnp_trp.(1e-4, 1e-4, xis)"
   ]
  },
  {
   "cell_type": "code",
   "execution_count": 7,
   "metadata": {},
   "outputs": [
    {
     "data": {
      "image/png": "[encoded data removed]"
     },
     "execution_count": 7,
     "metadata": {},
     "output_type": "execute_result"
    }
   ],
   "source": [
    "scatter(xis, map(x->x[1], Ips_nonSF), scale=:log10, label=\"\\$ T\\\\neq 0 \\$\")\n",
    "scatter!(xis, Ips_nonSF_zeroT, label=\"\\$ T=0 \\$\")\n",
    "plot!(0.1:0.1:100, HM.(0.1:0.1:100), label=\"Analytic\")\n",
    "xlabel!(\"\\$ \\\\xi \\$\")\n",
    "ylabel!(\"\\$ I_{M, \\\\Gamma}^p \\$\")"
   ]
  },
  {
   "cell_type": "markdown",
   "metadata": {},
   "source": [
    "Eaxct numerical integration is good only for $\\xi \\lesssim 10$\n",
    "\n",
    "Higher order Gauss-Laguerre qudrature ($ n >5$) may improve large $\\xi$ region."
   ]
  },
  {
   "cell_type": "code",
   "execution_count": 17,
   "metadata": {},
   "outputs": [
    {
     "name": "stdout",
     "output_type": "stream",
     "text": [
      "Ip_SFnp(vn, vp, xi, 5) / HM(xi) = [0.65219, 2.90105]\n",
      "  0.053190 seconds (225.11 k allocations: 18.889 MiB, 14.41% gc time)\n",
      "Ip_rate_SFnp_trp(vn, vp, xi) / HM(xi) = 0.27889416107854503\n",
      "  0.487172 seconds (216 allocations: 12.125 KiB)\n"
     ]
    },
    {
     "data": {
      "text/plain": [
       "0.27889416107854503"
      ]
     },
     "execution_count": 17,
     "metadata": {},
     "output_type": "execute_result"
    }
   ],
   "source": [
    "xi = 15.\n",
    "vn = 0.3\n",
    "vp = 0.3\n",
    "@time @show Ip_SFnp(vn, vp, xi, 5) / HM(xi)\n",
    "@time @show Ip_rate_SFnp_trp(vn, vp, xi) / HM(xi)"
   ]
  },
  {
   "cell_type": "markdown",
   "metadata": {},
   "source": [
    "This shows even above the threshold, it makes difference"
   ]
  },
  {
   "cell_type": "code",
   "execution_count": 8,
   "metadata": {},
   "outputs": [
    {
     "data": {
      "text/plain": [
       "13-element Array{Array{Float64,1},1}:\n",
       " [0.00249649, 0.0931498]\n",
       " [0.0156495, 0.519623]  \n",
       " [0.0402131, 0.969124]  \n",
       " [0.0738525, 1.06173]   \n",
       " [0.13601, 1.19889]     \n",
       " [0.269022, 1.66464]    \n",
       " [0.645744, 3.47894]    \n",
       " [2.33545, 13.116]      \n",
       " [22.4045, 153.45]      \n",
       " [414.011, 4637.25]     \n",
       " [5014.24, 75354.0]     \n",
       " [1.0955e5, 1.01765e6]  \n",
       " [5.8453e6, 8.058e7]    "
      ]
     },
     "execution_count": 8,
     "metadata": {},
     "output_type": "execute_result"
    }
   ],
   "source": [
    "xis = exp10.(-1:0.25:2)\n",
    "Ins_nonSF = In_SFnp.(0., 0., xis, 10)"
   ]
  },
  {
   "cell_type": "code",
   "execution_count": 9,
   "metadata": {},
   "outputs": [
    {
     "data": {
      "text/plain": [
       "13-element Array{Float64,1}:\n",
       "      2.194738205749851e-14 \n",
       "      1.2348383672726872e-12\n",
       "      6.945288188667945e-11 \n",
       "      3.9058755293039506e-9 \n",
       "      2.1964837748557368e-7 \n",
       "      1.2351819013467568e-5 \n",
       "      0.0006945952826430848 \n",
       "      0.03906001077803799   \n",
       "      2.196506950758852     \n",
       "    123.51859632853244      \n",
       "   6945.952534553371        \n",
       " 390599.0971410877          \n",
       "      2.1964977983107183e7  "
      ]
     },
     "execution_count": 9,
     "metadata": {},
     "output_type": "execute_result"
    }
   ],
   "source": [
    "Ins_nonSF_zeroT = In_rate_SFnp_trp.(1e-4, 1e-4, xis)"
   ]
  },
  {
   "cell_type": "code",
   "execution_count": 10,
   "metadata": {},
   "outputs": [
    {
     "data": {
      "image/png": "[encoded data removed]"
     },
     "execution_count": 10,
     "metadata": {},
     "output_type": "execute_result"
    }
   ],
   "source": [
    "scatter(xis, map(x->x[1], Ins_nonSF), scale=:log10, label=\"\\$ T\\\\neq 0 \\$\")\n",
    "scatter!(xis, Ins_nonSF_zeroT, label=\"\\$ T=0 \\$\")\n",
    "plot!(0.1:0.1:100, HM.(0.1:0.1:100), label=\"Analytic\")\n",
    "xlabel!(\"\\$ \\\\xi \\$\")\n",
    "ylabel!(\"\\$ I_{M, \\\\Gamma}^p \\$\")"
   ]
  },
  {
   "cell_type": "code",
   "execution_count": 18,
   "metadata": {},
   "outputs": [
    {
     "name": "stdout",
     "output_type": "stream",
     "text": [
      "In_SFnp(vn, vp, xi, 5) / HM(xi) = [0.648088, 2.9252]\n",
      "  0.155588 seconds (675.14 k allocations: 56.656 MiB, 12.49% gc time)\n",
      "In_rate_SFnp_trp(vn, vp, xi) / HM(xi) = 0.26879698071664965\n",
      "  5.365936 seconds (244 allocations: 14.156 KiB)\n"
     ]
    },
    {
     "data": {
      "text/plain": [
       "0.26879698071664965"
      ]
     },
     "execution_count": 18,
     "metadata": {},
     "output_type": "execute_result"
    }
   ],
   "source": [
    "xi = 15.\n",
    "vn = 0.3\n",
    "vp = 0.3\n",
    "@time @show In_SFnp(vn, vp, xi, 5) / HM(xi)\n",
    "@time @show In_rate_SFnp_trp(vn, vp, xi) / HM(xi)"
   ]
  },
  {
   "cell_type": "code",
   "execution_count": null,
   "metadata": {},
   "outputs": [],
   "source": []
  }
 ],
 "metadata": {
  "kernelspec": {
   "display_name": "Julia 1.0.0",
   "language": "julia",
   "name": "julia-1.0"
  },
  "language_info": {
   "file_extension": ".jl",
   "mimetype": "application/julia",
   "name": "julia",
   "version": "1.0.0"
  }
 },
 "nbformat": 4,
 "nbformat_minor": 2
}
